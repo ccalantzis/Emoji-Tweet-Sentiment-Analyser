{
 "cells": [
  {
   "cell_type": "markdown",
   "metadata": {},
   "source": [
    "### Testing how well VADER performs on the emoji tweets"
   ]
  },
  {
   "cell_type": "code",
   "execution_count": 1,
   "metadata": {},
   "outputs": [],
   "source": [
    "import VADER\n",
    "import VADER.vaderSentiment\n",
    "from VADER.vaderSentiment.vaderSentiment import SentimentIntensityAnalyzer\n",
    "import pandas as pd\n",
    "from sklearn.metrics import accuracy_score\n",
    "import emoji\n",
    "import re\n",
    "\n",
    "pd.options.display.max_colwidth =500\n",
    "pd.options.display.max_rows =50"
   ]
  },
  {
   "cell_type": "code",
   "execution_count": 2,
   "metadata": {},
   "outputs": [],
   "source": [
    "def regex_contains_emoji(s, return_filtered = False, return_dict = False):\n",
    "    emojis = \" \".join([emoj for emoj in emoji.UNICODE_EMOJI.keys() if len(emoj)==1])\n",
    "    \n",
    "    subbed = re.sub('[^' + emojis +']+', '', s)\n",
    "    subbed = re.sub('[\\s]+', '', subbed)    \n",
    "    \n",
    "    emoji_dict = {}\n",
    "    for e in set(list(subbed)):\n",
    "        emoji_dict[e] = list(subbed).count(e)\n",
    "        \n",
    "    if return_filtered:\n",
    "        return subbed\n",
    "    if return_dict:\n",
    "        return emoji_dict\n",
    "    return bool(len(subbed))"
   ]
  },
  {
   "cell_type": "code",
   "execution_count": 3,
   "metadata": {},
   "outputs": [],
   "source": [
    "def decayed_count(count, k=2):\n",
    "    # if count = 5, returns 1 + 1/k + 1/k^2 + 1/k^3 + 1/k^4\n",
    "    if (k == 1):\n",
    "        return 1\n",
    "    return (k - k**(1-count))/(k-1)"
   ]
  },
  {
   "cell_type": "code",
   "execution_count": 4,
   "metadata": {},
   "outputs": [],
   "source": [
    "all_emoji_tweets_train = pd.read_csv('all_emoji_tweets_train.csv')\n",
    "all_emoji_tweets_test = pd.read_csv('all_emoji_tweets_test.csv')"
   ]
  },
  {
   "cell_type": "code",
   "execution_count": 5,
   "metadata": {},
   "outputs": [],
   "source": [
    "analyser = SentimentIntensityAnalyzer()"
   ]
  },
  {
   "cell_type": "code",
   "execution_count": 6,
   "metadata": {},
   "outputs": [],
   "source": [
    "orig_predictions = []\n",
    "for tweet in all_emoji_tweets_test.text:\n",
    "    score = analyser.polarity_scores(tweet)['compound']\n",
    "    orig_predictions.append(score)"
   ]
  },
  {
   "cell_type": "code",
   "execution_count": 7,
   "metadata": {},
   "outputs": [],
   "source": [
    "predictions = [i for i in range(all_emoji_tweets_test.shape[0])]\n",
    "for i in range(len(orig_predictions)):\n",
    "    if orig_predictions[i] > 0.05:\n",
    "        predictions[i] = 'positive'\n",
    "    elif orig_predictions[i] < -0.05:\n",
    "        predictions[i] = 'negative'\n",
    "    else:\n",
    "        predictions[i] = 'neutral'"
   ]
  },
  {
   "cell_type": "code",
   "execution_count": 8,
   "metadata": {},
   "outputs": [
    {
     "name": "stdout",
     "output_type": "stream",
     "text": [
      "0.6209150326797386\n"
     ]
    }
   ],
   "source": [
    "print(accuracy_score(all_emoji_tweets_test.sentiment, predictions))"
   ]
  },
  {
   "cell_type": "markdown",
   "metadata": {},
   "source": [
    "### Emojis and the sentiments of tweets they appear in:"
   ]
  },
  {
   "cell_type": "markdown",
   "metadata": {},
   "source": [
    "<p>emoji_senti with all repeats included:</p>"
   ]
  },
  {
   "cell_type": "code",
   "execution_count": 9,
   "metadata": {},
   "outputs": [],
   "source": [
    "# repeats\n",
    "r_emoji_senti = {}\n",
    "for emoj in [emoj for emoj in emoji.UNICODE_EMOJI.keys() if len(emoj)==1]:\n",
    "    r_emoji_senti[emoj] ={\"positive\": 0, \"neutral\": 0, \"negative\": 0}\n",
    "\n",
    "import string\n",
    "for i in all_emoji_tweets_train.iterrows():\n",
    "    if(regex_contains_emoji(i[1][\"text\"])):\n",
    "        for emoj in regex_contains_emoji(i[1][\"text\"], True):\n",
    "            if i[1][\"sentiment\"].lower() == \"positive\":\n",
    "                r_emoji_senti[emoj][\"positive\"] += 1\n",
    "            elif i[1][\"sentiment\"].lower() == \"neutral\":\n",
    "                r_emoji_senti[emoj][\"neutral\"] += 1\n",
    "            elif i[1][\"sentiment\"].lower() == \"negative\":\n",
    "                r_emoji_senti[emoj][\"negative\"] += 1\n",
    "            else:\n",
    "                print(\"?\")"
   ]
  },
  {
   "cell_type": "markdown",
   "metadata": {},
   "source": [
    "<p>emoji_senti with decayed repeats:</p>"
   ]
  },
  {
   "cell_type": "code",
   "execution_count": 10,
   "metadata": {},
   "outputs": [],
   "source": [
    "# decayed repeats\n",
    "d_emoji_senti = {}\n",
    "for emoj in [emoj for emoj in emoji.UNICODE_EMOJI.keys() if len(emoj)==1]:\n",
    "    d_emoji_senti[emoj] ={\"positive\": 0, \"neutral\": 0, \"negative\": 0}\n",
    "\n",
    "import string\n",
    "for i in all_emoji_tweets_train.iterrows():\n",
    "    if(regex_contains_emoji(i[1][\"text\"])):\n",
    "        for emoj in regex_contains_emoji(i[1][\"text\"], False, True).items():\n",
    "            if i[1][\"sentiment\"].lower() == \"positive\":\n",
    "                d_emoji_senti[emoj[0]][\"positive\"] += decayed_count(emoj[1])\n",
    "            elif i[1][\"sentiment\"].lower() == \"neutral\":\n",
    "                d_emoji_senti[emoj[0]][\"neutral\"] += decayed_count(emoj[1])\n",
    "            elif i[1][\"sentiment\"].lower() == \"negative\":\n",
    "                d_emoji_senti[emoj[0]][\"negative\"] += decayed_count(emoj[1])\n",
    "            else:\n",
    "                print(\"wtf?/\")"
   ]
  },
  {
   "cell_type": "markdown",
   "metadata": {},
   "source": [
    "<p>emoji_senti with no repeats:</p>"
   ]
  },
  {
   "cell_type": "code",
   "execution_count": 11,
   "metadata": {},
   "outputs": [],
   "source": [
    "n_emoji_senti = {}\n",
    "for emoj in [emoj for emoj in emoji.UNICODE_EMOJI.keys() if len(emoj)==1]:\n",
    "    n_emoji_senti[emoj] ={\"positive\": 0, \"neutral\": 0, \"negative\": 0}\n",
    "\n",
    "import string\n",
    "for i in all_emoji_tweets_train.iterrows():\n",
    "    if(regex_contains_emoji(i[1][\"text\"])):\n",
    "        for emoj in regex_contains_emoji(i[1][\"text\"], False, True).items():\n",
    "            if i[1][\"sentiment\"].lower() == \"positive\":\n",
    "                n_emoji_senti[emoj[0]][\"positive\"] += 1\n",
    "            elif i[1][\"sentiment\"].lower() == \"neutral\":\n",
    "                n_emoji_senti[emoj[0]][\"neutral\"] += 1\n",
    "            elif i[1][\"sentiment\"].lower() == \"negative\":\n",
    "                n_emoji_senti[emoj[0]][\"negative\"] += 1\n",
    "            else:\n",
    "                print(\"?\")"
   ]
  },
  {
   "cell_type": "markdown",
   "metadata": {},
   "source": [
    "### Creating a DataFrame from `emoji_senti` for easier analysis:"
   ]
  },
  {
   "cell_type": "code",
   "execution_count": 12,
   "metadata": {},
   "outputs": [],
   "source": [
    "emoji_senti_list = []\n",
    "items = list(r_emoji_senti.items())\n",
    "for i in range(len(items)):\n",
    "    data_items = items[i][1].items()\n",
    "    data_list = list(data_items)\n",
    "    emoji_senti_list.append([items[i][0], data_list[0][1], data_list[1][1], data_list[2][1]])\n",
    "    \n",
    "emoji_senti_df = pd.DataFrame(emoji_senti_list,columns=['emoji', 'positive', 'neutral', 'negative'])"
   ]
  },
  {
   "cell_type": "code",
   "execution_count": 13,
   "metadata": {},
   "outputs": [],
   "source": [
    "in_data = emoji_senti_df.positive + emoji_senti_df.negative + emoji_senti_df.neutral > 0\n",
    "emoji_senti_df = emoji_senti_df[in_data].reset_index()"
   ]
  },
  {
   "cell_type": "code",
   "execution_count": 14,
   "metadata": {},
   "outputs": [],
   "source": [
    "sum_column = emoji_senti_df.positive + emoji_senti_df.negative + emoji_senti_df.neutral\n",
    "emoji_senti_df['sum_col'] = sum_column\n",
    "\n",
    "vader_sentiment = 4*(emoji_senti_df.positive - emoji_senti_df.negative)/(emoji_senti_df.sum_col + 12)\n",
    "emoji_senti_df['vader_sentiment'] = vader_sentiment"
   ]
  },
  {
   "cell_type": "code",
   "execution_count": 15,
   "metadata": {
    "scrolled": true
   },
   "outputs": [
    {
     "data": {
      "text/html": [
       "<div>\n",
       "<style scoped>\n",
       "    .dataframe tbody tr th:only-of-type {\n",
       "        vertical-align: middle;\n",
       "    }\n",
       "\n",
       "    .dataframe tbody tr th {\n",
       "        vertical-align: top;\n",
       "    }\n",
       "\n",
       "    .dataframe thead th {\n",
       "        text-align: right;\n",
       "    }\n",
       "</style>\n",
       "<table border=\"1\" class=\"dataframe\">\n",
       "  <thead>\n",
       "    <tr style=\"text-align: right;\">\n",
       "      <th></th>\n",
       "      <th>index</th>\n",
       "      <th>emoji</th>\n",
       "      <th>positive</th>\n",
       "      <th>neutral</th>\n",
       "      <th>negative</th>\n",
       "      <th>sum_col</th>\n",
       "      <th>vader_sentiment</th>\n",
       "    </tr>\n",
       "  </thead>\n",
       "  <tbody>\n",
       "    <tr>\n",
       "      <th>295</th>\n",
       "      <td>1036</td>\n",
       "      <td>😍</td>\n",
       "      <td>85</td>\n",
       "      <td>9</td>\n",
       "      <td>2</td>\n",
       "      <td>96</td>\n",
       "      <td>3.074074</td>\n",
       "    </tr>\n",
       "    <tr>\n",
       "      <th>123</th>\n",
       "      <td>459</td>\n",
       "      <td>🙏</td>\n",
       "      <td>119</td>\n",
       "      <td>22</td>\n",
       "      <td>3</td>\n",
       "      <td>144</td>\n",
       "      <td>2.974359</td>\n",
       "    </tr>\n",
       "    <tr>\n",
       "      <th>223</th>\n",
       "      <td>807</td>\n",
       "      <td>🎉</td>\n",
       "      <td>33</td>\n",
       "      <td>0</td>\n",
       "      <td>0</td>\n",
       "      <td>33</td>\n",
       "      <td>2.933333</td>\n",
       "    </tr>\n",
       "    <tr>\n",
       "      <th>265</th>\n",
       "      <td>933</td>\n",
       "      <td>❤</td>\n",
       "      <td>105</td>\n",
       "      <td>7</td>\n",
       "      <td>13</td>\n",
       "      <td>125</td>\n",
       "      <td>2.686131</td>\n",
       "    </tr>\n",
       "    <tr>\n",
       "      <th>45</th>\n",
       "      <td>160</td>\n",
       "      <td>💙</td>\n",
       "      <td>26</td>\n",
       "      <td>1</td>\n",
       "      <td>1</td>\n",
       "      <td>28</td>\n",
       "      <td>2.500000</td>\n",
       "    </tr>\n",
       "    <tr>\n",
       "      <th>...</th>\n",
       "      <td>...</td>\n",
       "      <td>...</td>\n",
       "      <td>...</td>\n",
       "      <td>...</td>\n",
       "      <td>...</td>\n",
       "      <td>...</td>\n",
       "      <td>...</td>\n",
       "    </tr>\n",
       "    <tr>\n",
       "      <th>17</th>\n",
       "      <td>82</td>\n",
       "      <td>😠</td>\n",
       "      <td>0</td>\n",
       "      <td>0</td>\n",
       "      <td>15</td>\n",
       "      <td>15</td>\n",
       "      <td>-2.222222</td>\n",
       "    </tr>\n",
       "    <tr>\n",
       "      <th>347</th>\n",
       "      <td>1179</td>\n",
       "      <td>😒</td>\n",
       "      <td>1</td>\n",
       "      <td>3</td>\n",
       "      <td>28</td>\n",
       "      <td>32</td>\n",
       "      <td>-2.454545</td>\n",
       "    </tr>\n",
       "    <tr>\n",
       "      <th>330</th>\n",
       "      <td>1136</td>\n",
       "      <td>👎</td>\n",
       "      <td>1</td>\n",
       "      <td>1</td>\n",
       "      <td>30</td>\n",
       "      <td>32</td>\n",
       "      <td>-2.636364</td>\n",
       "    </tr>\n",
       "    <tr>\n",
       "      <th>75</th>\n",
       "      <td>324</td>\n",
       "      <td>💨</td>\n",
       "      <td>0</td>\n",
       "      <td>0</td>\n",
       "      <td>32</td>\n",
       "      <td>32</td>\n",
       "      <td>-2.909091</td>\n",
       "    </tr>\n",
       "    <tr>\n",
       "      <th>253</th>\n",
       "      <td>893</td>\n",
       "      <td>😡</td>\n",
       "      <td>0</td>\n",
       "      <td>1</td>\n",
       "      <td>90</td>\n",
       "      <td>91</td>\n",
       "      <td>-3.495146</td>\n",
       "    </tr>\n",
       "  </tbody>\n",
       "</table>\n",
       "<p>394 rows × 7 columns</p>\n",
       "</div>"
      ],
      "text/plain": [
       "     index emoji  positive  neutral  negative  sum_col  vader_sentiment\n",
       "295   1036     😍        85        9         2       96         3.074074\n",
       "123    459     🙏       119       22         3      144         2.974359\n",
       "223    807     🎉        33        0         0       33         2.933333\n",
       "265    933     ❤       105        7        13      125         2.686131\n",
       "45     160     💙        26        1         1       28         2.500000\n",
       "..     ...   ...       ...      ...       ...      ...              ...\n",
       "17      82     😠         0        0        15       15        -2.222222\n",
       "347   1179     😒         1        3        28       32        -2.454545\n",
       "330   1136     👎         1        1        30       32        -2.636364\n",
       "75     324     💨         0        0        32       32        -2.909091\n",
       "253    893     😡         0        1        90       91        -3.495146\n",
       "\n",
       "[394 rows x 7 columns]"
      ]
     },
     "execution_count": 15,
     "metadata": {},
     "output_type": "execute_result"
    }
   ],
   "source": [
    "emoji_senti_df.sort_values(by=['vader_sentiment'], ascending=False)"
   ]
  },
  {
   "cell_type": "markdown",
   "metadata": {},
   "source": [
    "### Below is what we added to vader_lexicon.txt"
   ]
  },
  {
   "cell_type": "code",
   "execution_count": 16,
   "metadata": {},
   "outputs": [],
   "source": [
    "emoji_senti_df.filter(items=['emoji','vader_sentiment']).to_csv('emoji_sentiment.txt', index=False, header=False,\n",
    "                               sep='\\t')"
   ]
  }
 ],
 "metadata": {
  "kernelspec": {
   "display_name": "Python 3",
   "language": "python",
   "name": "python3"
  },
  "language_info": {
   "codemirror_mode": {
    "name": "ipython",
    "version": 3
   },
   "file_extension": ".py",
   "mimetype": "text/x-python",
   "name": "python",
   "nbconvert_exporter": "python",
   "pygments_lexer": "ipython3",
   "version": "3.7.7"
  }
 },
 "nbformat": 4,
 "nbformat_minor": 4
}
