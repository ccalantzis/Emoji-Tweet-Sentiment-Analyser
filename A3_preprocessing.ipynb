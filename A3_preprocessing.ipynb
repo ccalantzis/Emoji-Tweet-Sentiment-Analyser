{
 "cells": [
  {
   "cell_type": "code",
   "execution_count": 1,
   "metadata": {},
   "outputs": [],
   "source": [
    "import pandas as pd\n",
    "import emoji\n",
    "import re\n",
    "import string\n",
    "import csv\n",
    "\n",
    "pd.options.display.max_colwidth = 500\n",
    "pd.options.display.max_rows = 50"
   ]
  },
  {
   "cell_type": "code",
   "execution_count": 2,
   "metadata": {},
   "outputs": [],
   "source": [
    "def regex_contains_emoji(s, return_filtered = False):\n",
    "    emojis = \" \".join([emoj for emoj in emoji.UNICODE_EMOJI.keys() if len(emoj)==1])\n",
    "    \n",
    "    subbed = re.sub('[^' + emojis +']+', '', s)\n",
    "    subbed = re.sub('[\\s]+', '', subbed)\n",
    "    \n",
    "    if return_filtered:\n",
    "        return subbed\n",
    "    return bool(len(subbed))"
   ]
  },
  {
   "cell_type": "markdown",
   "metadata": {},
   "source": [
    "### Reading data"
   ]
  },
  {
   "cell_type": "code",
   "execution_count": 3,
   "metadata": {
    "scrolled": true
   },
   "outputs": [],
   "source": [
    "airline_tweets = pd.read_csv('airline_tweets.csv')\n",
    "semeval_tweets = pd.read_csv('semeval_tweets.csv')\n",
    "gop_debate_tweets = pd.read_csv('gop_debate_tweets.csv')\n",
    "smile_tweets = pd.read_csv('smile_tweets.csv')\n",
    "semeval_anger_tweets = pd.read_csv('semeval_anger_tweets.csv', engine='python')\n",
    "semeval_fear_tweets = pd.read_csv('semeval_fear_tweets.csv', engine='python')\n",
    "semeval_joy_tweets = pd.read_csv('semeval_joy_tweets.csv', engine='python')\n",
    "semeval_sad_tweets = pd.read_csv('semeval_sad_tweets.csv', engine='python')"
   ]
  },
  {
   "cell_type": "code",
   "execution_count": 4,
   "metadata": {},
   "outputs": [],
   "source": [
    "angry = semeval_anger_tweets['Intensity Class'] >= 2\n",
    "semeval_anger_tweets = semeval_anger_tweets[angry].reset_index()\n",
    "list_of_negative = ['negative' for i in range(semeval_anger_tweets.shape[0])]\n",
    "semeval_anger_tweets['sentiment'] = list_of_negative"
   ]
  },
  {
   "cell_type": "code",
   "execution_count": 5,
   "metadata": {},
   "outputs": [],
   "source": [
    "fearful = semeval_fear_tweets['Intensity Class'] >= 2\n",
    "semeval_fear_tweets = semeval_fear_tweets[fearful].reset_index()\n",
    "list_of_negative = ['negative' for i in range(semeval_fear_tweets.shape[0])]\n",
    "semeval_fear_tweets['sentiment'] = list_of_negative"
   ]
  },
  {
   "cell_type": "code",
   "execution_count": 6,
   "metadata": {},
   "outputs": [],
   "source": [
    "joy = semeval_joy_tweets['Intensity Class'] >= 2\n",
    "semeval_joy_tweets = semeval_joy_tweets[joy].reset_index()\n",
    "list_of_positive = ['positive' for i in range(semeval_joy_tweets.shape[0])]\n",
    "semeval_joy_tweets['sentiment'] = list_of_positive"
   ]
  },
  {
   "cell_type": "code",
   "execution_count": 7,
   "metadata": {},
   "outputs": [],
   "source": [
    "sad = semeval_sad_tweets['Intensity Class'] >= 2\n",
    "semeval_sad_tweets = semeval_sad_tweets[sad].reset_index()\n",
    "list_of_negative = ['negative' for i in range(semeval_sad_tweets.shape[0])]\n",
    "semeval_sad_tweets['sentiment'] = list_of_negative"
   ]
  },
  {
   "cell_type": "code",
   "execution_count": 8,
   "metadata": {},
   "outputs": [],
   "source": [
    "def extract_emoji_tweets(data):\n",
    "    emoji_tweets = pd.DataFrame(columns=data.columns)\n",
    "    row_index = 0\n",
    "\n",
    "    for tweet in data.text:\n",
    "        if regex_contains_emoji(tweet):\n",
    "            emoji_tweets = emoji_tweets.append(data.iloc[row_index], ignore_index=True)\n",
    "        row_index += 1\n",
    "    return emoji_tweets"
   ]
  },
  {
   "cell_type": "code",
   "execution_count": 9,
   "metadata": {
    "scrolled": true
   },
   "outputs": [],
   "source": [
    "emoji_airline_tweets = extract_emoji_tweets(airline_tweets)\n",
    "emoji_semeval_tweets = extract_emoji_tweets(semeval_tweets)\n",
    "emoji_gop_debate_tweets = extract_emoji_tweets(gop_debate_tweets)\n",
    "emoji_smile_tweets = extract_emoji_tweets(smile_tweets)\n",
    "emoji_se_anger_tweets = extract_emoji_tweets(semeval_anger_tweets)\n",
    "emoji_se_joy_tweets = extract_emoji_tweets(semeval_joy_tweets)\n",
    "emoji_se_fear_tweets = extract_emoji_tweets(semeval_fear_tweets)\n",
    "emoji_se_sad_tweets = extract_emoji_tweets(semeval_sad_tweets)"
   ]
  },
  {
   "cell_type": "code",
   "execution_count": 10,
   "metadata": {
    "scrolled": true
   },
   "outputs": [],
   "source": [
    "happy = emoji_smile_tweets.code == 'happy'\n",
    "happy_emoji_smile_tweets = emoji_smile_tweets[happy].reset_index()\n",
    "list_of_positive = ['positive' for i in range(happy_emoji_smile_tweets.shape[0])]\n",
    "happy_emoji_smile_tweets['sentiment'] = list_of_positive"
   ]
  },
  {
   "cell_type": "code",
   "execution_count": 11,
   "metadata": {
    "scrolled": true
   },
   "outputs": [],
   "source": [
    "sad = emoji_smile_tweets.code == 'sad'\n",
    "sad_emoji_smile_tweets = emoji_smile_tweets[sad].reset_index()\n",
    "list_of_negative = ['negative' for i in range(sad_emoji_smile_tweets.shape[0])]\n",
    "sad_emoji_smile_tweets['sentiment'] = list_of_negative"
   ]
  },
  {
   "cell_type": "code",
   "execution_count": 12,
   "metadata": {},
   "outputs": [],
   "source": [
    "from emoji import UNICODE_EMOJI\n",
    "pattern = re.compile('[\\W_]+', re.UNICODE)\n",
    "\n",
    "def contains(s, e):\n",
    "    s = s.strip(pattern.sub('', string.printable))\n",
    "    count = 0\n",
    "    for c in s:\n",
    "        count += s.count(e)\n",
    "    return bool(count)"
   ]
  },
  {
   "cell_type": "code",
   "execution_count": 13,
   "metadata": {},
   "outputs": [],
   "source": [
    "#There's just too many American flag tweets\n",
    "emoji_nf_gop_debate_tweets = pd.DataFrame(columns=emoji_gop_debate_tweets.columns)\n",
    "row_index = 0\n",
    "\n",
    "for tweet in emoji_gop_debate_tweets.text:\n",
    "    if not contains(tweet, '🇺🇸'):\n",
    "        emoji_nf_gop_debate_tweets = emoji_nf_gop_debate_tweets.append(emoji_gop_debate_tweets.iloc[row_index], ignore_index=True)\n",
    "    row_index += 1"
   ]
  },
  {
   "cell_type": "markdown",
   "metadata": {},
   "source": [
    "### Combining all tweets into a DataFrame"
   ]
  },
  {
   "cell_type": "code",
   "execution_count": 14,
   "metadata": {},
   "outputs": [
    {
     "data": {
      "text/plain": [
       "(2042, 2)"
      ]
     },
     "execution_count": 14,
     "metadata": {},
     "output_type": "execute_result"
    }
   ],
   "source": [
    "all_emoji_tweets = emoji_airline_tweets.append([emoji_semeval_tweets, emoji_nf_gop_debate_tweets,\n",
    "                                                happy_emoji_smile_tweets, sad_emoji_smile_tweets,\n",
    "                                                emoji_se_anger_tweets, emoji_se_fear_tweets,\n",
    "                                                emoji_se_joy_tweets, emoji_se_sad_tweets])\n",
    "all_emoji_tweets.drop(columns=['tweet_id', 'id', 'index', 'code', 'Intensity Class'], inplace=True)\n",
    "all_emoji_tweets.shape"
   ]
  },
  {
   "cell_type": "code",
   "execution_count": 15,
   "metadata": {},
   "outputs": [],
   "source": [
    "all_emoji_tweets.to_csv('all_emoji_tweets.csv')"
   ]
  },
  {
   "cell_type": "code",
   "execution_count": 17,
   "metadata": {},
   "outputs": [],
   "source": [
    "import random\n",
    "import numpy as np\n",
    "\n",
    "random.seed = 9876544443\n",
    "shuffler = np.arange(2042)\n",
    "random.shuffle(shuffler)\n",
    "all_emoji_tweets_shuffled = np.asarray(all_emoji_tweets)\n",
    "all_emoji_tweets_shuffled = all_emoji_tweets_shuffled[shuffler]\n",
    "\n",
    "all_emoji_tweets_train = pd.DataFrame(all_emoji_tweets_shuffled[:1736])\n",
    "all_emoji_tweets_train.columns = ['sentiment', 'text']\n",
    "all_emoji_tweets_test = pd.DataFrame(all_emoji_tweets_shuffled[1736:])\n",
    "all_emoji_tweets_test.columns = ['sentiment', 'text']\n",
    "\n",
    "all_emoji_tweets_train.to_csv(\"all_emoji_tweets_train.csv\")\n",
    "all_emoji_tweets_test.to_csv(\"all_emoji_tweets_test.csv\")"
   ]
  }
 ],
 "metadata": {
  "kernelspec": {
   "display_name": "Python 3",
   "language": "python",
   "name": "python3"
  },
  "language_info": {
   "codemirror_mode": {
    "name": "ipython",
    "version": 3
   },
   "file_extension": ".py",
   "mimetype": "text/x-python",
   "name": "python",
   "nbconvert_exporter": "python",
   "pygments_lexer": "ipython3",
   "version": "3.7.7"
  }
 },
 "nbformat": 4,
 "nbformat_minor": 4
}
