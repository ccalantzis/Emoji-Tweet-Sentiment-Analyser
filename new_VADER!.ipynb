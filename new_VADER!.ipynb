{
 "cells": [
  {
   "cell_type": "code",
   "execution_count": 1,
   "metadata": {},
   "outputs": [],
   "source": [
    "import emoji\n",
    "import re\n",
    "import pandas as pd\n",
    "all_emoji_tweets = pd.read_csv('all_emoji_tweets_test.csv')"
   ]
  },
  {
   "cell_type": "code",
   "execution_count": 2,
   "metadata": {},
   "outputs": [],
   "source": [
    "# this method was necessary as the Vader model splits text into tokens using whitespace.\n",
    "# we have added whitespace before and after every emoji:\n",
    "def add_space_after_emoji(s):\n",
    "    emojis = \" \".join([emoj for emoj in emoji.UNICODE_EMOJI.keys() if len(emoj)==1])\n",
    "    subbed = re.sub('(?<=[' + emojis +'])', ' ', s)\n",
    "    subbed = re.sub('(?=[' + emojis +'])', ' ', s)\n",
    "    \n",
    "    return subbed"
   ]
  },
  {
   "cell_type": "code",
   "execution_count": 3,
   "metadata": {},
   "outputs": [],
   "source": [
    "spaced_tweets = []\n",
    "for tweet in all_emoji_tweets.text:\n",
    "    spaced_tweet = add_space_after_emoji(tweet)\n",
    "    spaced_tweets.append(spaced_tweet)\n",
    "    \n",
    "all_emoji_tweets['spaced_tweets'] = spaced_tweets"
   ]
  },
  {
   "cell_type": "code",
   "execution_count": 4,
   "metadata": {},
   "outputs": [],
   "source": [
    "import newVADER\n",
    "from newVADER.vaderSentiment.vaderSentiment import SentimentIntensityAnalyzer\n",
    "analyser = SentimentIntensityAnalyzer()"
   ]
  },
  {
   "cell_type": "code",
   "execution_count": 5,
   "metadata": {},
   "outputs": [],
   "source": [
    "orig_predictions = []\n",
    "for tweet in all_emoji_tweets.spaced_tweets:\n",
    "    score = analyser.polarity_scores(tweet)['compound']\n",
    "    orig_predictions.append(score)"
   ]
  },
  {
   "cell_type": "code",
   "execution_count": 6,
   "metadata": {},
   "outputs": [],
   "source": [
    "predictions = [i for i in range(all_emoji_tweets.shape[0])]\n",
    "for i in range(len(orig_predictions)):\n",
    "    if orig_predictions[i] > 0.05:\n",
    "        predictions[i] = 'positive'\n",
    "    elif orig_predictions[i] < -0.05:\n",
    "        predictions[i] = 'negative'\n",
    "    else:\n",
    "        predictions[i] = 'neutral'"
   ]
  },
  {
   "cell_type": "code",
   "execution_count": 7,
   "metadata": {},
   "outputs": [
    {
     "name": "stdout",
     "output_type": "stream",
     "text": [
      "0.6797385620915033\n"
     ]
    }
   ],
   "source": [
    "from sklearn.metrics import accuracy_score\n",
    "\n",
    "print(accuracy_score(all_emoji_tweets.sentiment, predictions))"
   ]
  },
  {
   "cell_type": "code",
   "execution_count": 8,
   "metadata": {},
   "outputs": [],
   "source": [
    "pd.DataFrame(predictions).to_csv(\"r_method_2_a12_predictions.csv\", index=False, header=False)"
   ]
  }
 ],
 "metadata": {
  "kernelspec": {
   "display_name": "Python 3",
   "language": "python",
   "name": "python3"
  },
  "language_info": {
   "codemirror_mode": {
    "name": "ipython",
    "version": 3
   },
   "file_extension": ".py",
   "mimetype": "text/x-python",
   "name": "python",
   "nbconvert_exporter": "python",
   "pygments_lexer": "ipython3",
   "version": "3.7.7"
  }
 },
 "nbformat": 4,
 "nbformat_minor": 4
}
